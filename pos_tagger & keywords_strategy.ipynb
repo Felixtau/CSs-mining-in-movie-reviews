{
 "cells": [
  {
   "cell_type": "code",
   "execution_count": 6,
   "metadata": {},
   "outputs": [],
   "source": [
    "import pandas as pd\n",
    "data = pd.read_csv('0508_2000_TRY KEY.csv')"
   ]
  },
  {
   "cell_type": "code",
   "execution_count": 7,
   "metadata": {},
   "outputs": [
    {
     "name": "stderr",
     "output_type": "stream",
     "text": [
      "C:\\Users\\felix\\Anaconda3\\lib\\site-packages\\ipykernel_launcher.py:1: DeprecationWarning: \n",
      ".ix is deprecated. Please use\n",
      ".loc for label based indexing or\n",
      ".iloc for positional indexing\n",
      "\n",
      "See the documentation here:\n",
      "http://pandas.pydata.org/pandas-docs/stable/indexing.html#ix-indexer-is-deprecated\n",
      "  \"\"\"Entry point for launching an IPython kernel.\n"
     ]
    },
    {
     "data": {
      "text/plain": [
       "2001"
      ]
     },
     "execution_count": 7,
     "metadata": {},
     "output_type": "execute_result"
    }
   ],
   "source": [
    "record_num = int(data.describe().ix[0,0])\n",
    "record_num"
   ]
  },
  {
   "cell_type": "code",
   "execution_count": 8,
   "metadata": {},
   "outputs": [
    {
     "data": {
      "text/plain": [
       "id                                                      6\n",
       "text    \"a classic line inspector im here to sack one ...\n",
       "flag                                                  NaN\n",
       "Name: 5, dtype: object"
      ]
     },
     "execution_count": 8,
     "metadata": {},
     "output_type": "execute_result"
    }
   ],
   "source": [
    "data.iloc[5,:]"
   ]
  },
  {
   "cell_type": "code",
   "execution_count": 12,
   "metadata": {},
   "outputs": [
    {
     "name": "stderr",
     "output_type": "stream",
     "text": [
      "C:\\Users\\felix\\Anaconda3\\lib\\site-packages\\ipykernel_launcher.py:5: DeprecationWarning: \n",
      ".ix is deprecated. Please use\n",
      ".loc for label based indexing or\n",
      ".iloc for positional indexing\n",
      "\n",
      "See the documentation here:\n",
      "http://pandas.pydata.org/pandas-docs/stable/indexing.html#ix-indexer-is-deprecated\n",
      "  \"\"\"\n"
     ]
    }
   ],
   "source": [
    "# token and pos, store them in many lists\n",
    "import nltk\n",
    "import pandas as pd\n",
    "data = pd.read_csv('0508_2000_TRY KEY.csv')\n",
    "record_num = int(data.describe().ix[0,0])\n",
    "for i in range(record_num):\n",
    "    record = data.iloc[i,:]\n",
    "    comment = record['text']\n",
    "    tagged = nltk.pos_tag(nltk.word_tokenize(comment))"
   ]
  },
  {
   "cell_type": "code",
   "execution_count": 15,
   "metadata": {},
   "outputs": [
    {
     "name": "stdout",
     "output_type": "stream",
     "text": [
      "NO\n",
      "NO\n",
      "NO\n",
      "NO\n",
      "NO\n",
      "NO\n",
      "NO\n",
      "NO\n",
      "YES\n",
      "NO\n",
      "NO\n",
      "NO\n",
      "NO\n",
      "NO\n",
      "NO\n",
      "NO\n",
      "NO\n",
      "NO\n",
      "NO\n",
      "NO\n",
      "NO\n",
      "NO\n"
     ]
    }
   ],
   "source": [
    "for idx, item in enumerate(tagged):\n",
    "    \n",
    "    if item[1] == 'JJR' or item[1] == 'RBR' or item[1] == 'JJS' or item[1] == 'RBS':\n",
    "            print('YES')\n",
    "    elif stemmer.stem(item[0]) in keyword_dict:\n",
    "            print('YES')\n",
    "    else:\n",
    "            print('NO')"
   ]
  },
  {
   "cell_type": "code",
   "execution_count": 26,
   "metadata": {},
   "outputs": [
    {
     "ename": "PermissionError",
     "evalue": "[Errno 13] Permission denied: 'C:\\\\Users\\\\felix\\\\tokenpos.csv'",
     "output_type": "error",
     "traceback": [
      "\u001b[1;31m---------------------------------------------------------------------------\u001b[0m",
      "\u001b[1;31mPermissionError\u001b[0m                           Traceback (most recent call last)",
      "\u001b[1;32m<ipython-input-26-218c1484362c>\u001b[0m in \u001b[0;36m<module>\u001b[1;34m()\u001b[0m\n\u001b[0;32m      2\u001b[0m \u001b[1;31m# save it into a new csv file.\u001b[0m\u001b[1;33m\u001b[0m\u001b[1;33m\u001b[0m\u001b[0m\n\u001b[0;32m      3\u001b[0m \u001b[0mpath\u001b[0m \u001b[1;33m=\u001b[0m \u001b[1;34mr'C:\\Users\\felix\\tokenpos.csv'\u001b[0m\u001b[1;33m\u001b[0m\u001b[0m\n\u001b[1;32m----> 4\u001b[1;33m \u001b[0mcsvfile\u001b[0m \u001b[1;33m=\u001b[0m \u001b[0mopen\u001b[0m\u001b[1;33m(\u001b[0m\u001b[0mpath\u001b[0m\u001b[1;33m,\u001b[0m\u001b[1;34m'w'\u001b[0m\u001b[1;33m,\u001b[0m\u001b[0mencoding\u001b[0m\u001b[1;33m=\u001b[0m\u001b[1;34m'utf-8'\u001b[0m\u001b[1;33m)\u001b[0m\u001b[1;33m\u001b[0m\u001b[0m\n\u001b[0m\u001b[0;32m      5\u001b[0m \u001b[0mwriter\u001b[0m \u001b[1;33m=\u001b[0m \u001b[0mcsv\u001b[0m\u001b[1;33m.\u001b[0m\u001b[0mwriter\u001b[0m\u001b[1;33m(\u001b[0m\u001b[0mcsvfile\u001b[0m\u001b[1;33m)\u001b[0m\u001b[1;33m\u001b[0m\u001b[0m\n\u001b[0;32m      6\u001b[0m \u001b[0mwriter\u001b[0m\u001b[1;33m.\u001b[0m\u001b[0mwriterow\u001b[0m\u001b[1;33m(\u001b[0m\u001b[1;33m(\u001b[0m\u001b[1;34m'id'\u001b[0m\u001b[1;33m,\u001b[0m\u001b[1;34m'text'\u001b[0m\u001b[1;33m,\u001b[0m\u001b[1;34m'pos'\u001b[0m\u001b[1;33m)\u001b[0m\u001b[1;33m)\u001b[0m\u001b[1;33m\u001b[0m\u001b[0m\n",
      "\u001b[1;31mPermissionError\u001b[0m: [Errno 13] Permission denied: 'C:\\\\Users\\\\felix\\\\tokenpos.csv'"
     ]
    }
   ],
   "source": [
    "import csv\n",
    "# save it into a new csv file.\n",
    "path = r'C:\\Users\\felix\\tokenpos.csv'\n",
    "csvfile = open(path,'w',encoding='utf-8')\n",
    "writer = csv.writer(csvfile)\n",
    "writer.writerow(('id','text','pos'))\n",
    "\n",
    "for i in range(record_num):\n",
    "    record = data.iloc[i,:]\n",
    "    comment = record['text']\n",
    "    tagged = nltk.pos_tag(nltk.word_tokenize(comment))\n",
    "    writer.writerow((record['id'],record['text'],tagged))\n",
    "csvfile.close()"
   ]
  },
  {
   "cell_type": "code",
   "execution_count": 7,
   "metadata": {},
   "outputs": [],
   "source": [
    "from __future__ import print_function\n",
    "import os\n",
    "import nltk\n",
    "import nltk.tokenize.punkt\n",
    "import pickle\n",
    "import codecs\n",
    "import string\n",
    "import csv\n",
    "import sklearn\n",
    "\n",
    "from sklearn.naive_bayes import GaussianNB\n",
    "from sklearn.naive_bayes import MultinomialNB\n",
    "import numpy as np\n",
    "from nltk.stem.snowball import SnowballStemmer\n",
    "\n",
    "from collections import defaultdict\n",
    "\n",
    "class Sequences:\n",
    "    def __init__(self):\n",
    "        self.seqs = []\n",
    "        self.seq_labels = []\n",
    "\n",
    "\n",
    "stemmer = SnowballStemmer(\"english\")\n",
    "window_size=3 #radius from the keyword to generate the sequence\n",
    "#sequences=[]# sequences\n",
    "#seq_labels=[]#labels of the sequences\n",
    "TAU=1\n",
    "min_confidence=0.6\n",
    "# the keyword list is derived from the keyweord list provided by Liu Bing, but we use the stemmed ones, we also remove repeated ones and phrases\n",
    "# phrases are used for exact match in another part\n",
    "keyword_dict = {'advantag', 'after', 'ahead', 'all', 'altern', 'altogeth', 'beat', 'befor',\n",
    "                'behind', 'both', 'choic', 'choos', 'compar', 'compet', 'defeat', 'differ',\n",
    "                'domin', 'doubl', 'better',\n",
    "                'either', 'equal', 'equival', 'exceed', 'favor', 'first', 'fraction',\n",
    "                'improv',\n",
    "                'inferior', 'last', 'lead', 'least', 'less',\n",
    "                'most', 'outclass', 'outdist', 'outperform',\n",
    "                 'outstrip', 'prefer', 'recommend', 'rival',\n",
    "                'same', 'second',\n",
    "                'similar', 'superior',\n",
    "                'versus', 'vs', 'win'}\n",
    "comparative_phrases = ['number one', 'on par with', 'one of few', 'up against']\n"
   ]
  },
  {
   "cell_type": "code",
   "execution_count": 4,
   "metadata": {},
   "outputs": [
    {
     "data": {
      "text/html": [
       "<div>\n",
       "<style scoped>\n",
       "    .dataframe tbody tr th:only-of-type {\n",
       "        vertical-align: middle;\n",
       "    }\n",
       "\n",
       "    .dataframe tbody tr th {\n",
       "        vertical-align: top;\n",
       "    }\n",
       "\n",
       "    .dataframe thead th {\n",
       "        text-align: right;\n",
       "    }\n",
       "</style>\n",
       "<table border=\"1\" class=\"dataframe\">\n",
       "  <thead>\n",
       "    <tr style=\"text-align: right;\">\n",
       "      <th></th>\n",
       "      <th>id</th>\n",
       "      <th>text</th>\n",
       "      <th>pos</th>\n",
       "    </tr>\n",
       "  </thead>\n",
       "  <tbody>\n",
       "    <tr>\n",
       "      <th>0</th>\n",
       "      <td>1</td>\n",
       "      <td>\"bromwell high is a cartoon comedy.\"</td>\n",
       "      <td>[('``', '``'), ('bromwell', 'RB'), ('high', 'J...</td>\n",
       "    </tr>\n",
       "    <tr>\n",
       "      <th>1</th>\n",
       "      <td>2</td>\n",
       "      <td>\"it ran at the same time as some other program...</td>\n",
       "      <td>[('``', '``'), ('it', 'PRP'), ('ran', 'VBD'), ...</td>\n",
       "    </tr>\n",
       "    <tr>\n",
       "      <th>2</th>\n",
       "      <td>3</td>\n",
       "      <td>\"my 35 years in the teaching profession lead m...</td>\n",
       "      <td>[('``', '``'), ('my', 'PRP$'), ('35', 'CD'), (...</td>\n",
       "    </tr>\n",
       "    <tr>\n",
       "      <th>3</th>\n",
       "      <td>4</td>\n",
       "      <td>\"the scramble to survive financially the insig...</td>\n",
       "      <td>[('``', '``'), ('the', 'DT'), ('scramble', 'JJ...</td>\n",
       "    </tr>\n",
       "    <tr>\n",
       "      <th>4</th>\n",
       "      <td>5</td>\n",
       "      <td>\"when i saw the episode in which a student rep...</td>\n",
       "      <td>[('``', '``'), ('when', 'WRB'), ('i', 'NN'), (...</td>\n",
       "    </tr>\n",
       "  </tbody>\n",
       "</table>\n",
       "</div>"
      ],
      "text/plain": [
       "   id                                               text  \\\n",
       "0   1               \"bromwell high is a cartoon comedy.\"   \n",
       "1   2  \"it ran at the same time as some other program...   \n",
       "2   3  \"my 35 years in the teaching profession lead m...   \n",
       "3   4  \"the scramble to survive financially the insig...   \n",
       "4   5  \"when i saw the episode in which a student rep...   \n",
       "\n",
       "                                                 pos  \n",
       "0  [('``', '``'), ('bromwell', 'RB'), ('high', 'J...  \n",
       "1  [('``', '``'), ('it', 'PRP'), ('ran', 'VBD'), ...  \n",
       "2  [('``', '``'), ('my', 'PRP$'), ('35', 'CD'), (...  \n",
       "3  [('``', '``'), ('the', 'DT'), ('scramble', 'JJ...  \n",
       "4  [('``', '``'), ('when', 'WRB'), ('i', 'NN'), (...  "
      ]
     },
     "execution_count": 4,
     "metadata": {},
     "output_type": "execute_result"
    }
   ],
   "source": [
    "df = pd.read_csv('tokenpos.csv')\n",
    "df.head()"
   ]
  },
  {
   "cell_type": "code",
   "execution_count": 10,
   "metadata": {
    "scrolled": true
   },
   "outputs": [],
   "source": [
    "# keywords YES OR NO\n",
    "import csv\n",
    "# save it into a new csv file.\n",
    "path = r'C:\\Users\\felix\\KSfilter.csv'\n",
    "csvfile = open(path,'w',encoding='utf-8')\n",
    "writer = csv.writer(csvfile)\n",
    "writer.writerow(('id','text','pos','keyword label'))\n",
    "\n",
    "\n",
    "\n",
    "for i in range(record_num):\n",
    "    record = df.iloc[i,:]\n",
    "    tagged_tuples = record['pos']\n",
    "    for idx, item in enumerate(tagged):\n",
    "        if item == 'JJR' or item == 'RBR' or item== 'JJS' or item == 'RBS':\n",
    "            tagged='YES'\n",
    "        elif stemmer.stem(item[0]) in keyword_dict:\n",
    "            tagged='YES'\n",
    "        else:\n",
    "            tagged='No'\n",
    "\n",
    "                #print(item)\n",
    "                #seq_object = getSequence(tagged_tuples, idx, item[1], item[0], window_size,labels[id], seq_object)\n",
    "        \n",
    "\n",
    "    writer.writerow((record['id'],record['text'],record['pos'],tagged))\n",
    "csvfile.close()"
   ]
  },
  {
   "cell_type": "code",
   "execution_count": null,
   "metadata": {},
   "outputs": [],
   "source": []
  },
  {
   "cell_type": "code",
   "execution_count": null,
   "metadata": {},
   "outputs": [],
   "source": []
  },
  {
   "cell_type": "code",
   "execution_count": null,
   "metadata": {},
   "outputs": [],
   "source": []
  }
 ],
 "metadata": {
  "kernelspec": {
   "display_name": "Python 3",
   "language": "python",
   "name": "python3"
  },
  "language_info": {
   "codemirror_mode": {
    "name": "ipython",
    "version": 3
   },
   "file_extension": ".py",
   "mimetype": "text/x-python",
   "name": "python",
   "nbconvert_exporter": "python",
   "pygments_lexer": "ipython3",
   "version": "3.6.8"
  }
 },
 "nbformat": 4,
 "nbformat_minor": 2
}
