{
 "cells": [
  {
   "cell_type": "code",
   "execution_count": 6,
   "metadata": {},
   "outputs": [],
   "source": [
    "import spacy\n",
    "from spacy import displacy\n",
    "nlp = spacy.load(\"en_core_web_sm\")"
   ]
  },
  {
   "cell_type": "code",
   "execution_count": 7,
   "metadata": {},
   "outputs": [
    {
     "name": "stdout",
     "output_type": "stream",
     "text": [
      "[('the', 'DET'), ('avengers', 'NOUN'), ('is', 'VERB'), ('better', 'ADJ'), ('than', 'ADP'), ('transformers', 'NOUN'), ('in', 'ADP'), ('the', 'DET'), ('storyline', 'NOUN')]\n"
     ]
    },
    {
     "data": {
      "text/html": [
       "<svg xmlns=\"http://www.w3.org/2000/svg\" xmlns:xlink=\"http://www.w3.org/1999/xlink\" xml:lang=\"en\" id=\"045dbbe844ac42e8bfd526589a11d694-0\" class=\"displacy\" width=\"860\" height=\"227.0\" direction=\"ltr\" style=\"max-width: none; height: 227.0px; color: #000000; background: #ffffff; font-family: Arial; direction: ltr\">\n",
       "<text class=\"displacy-token\" fill=\"currentColor\" text-anchor=\"middle\" y=\"137.0\">\n",
       "    <tspan class=\"displacy-word\" fill=\"currentColor\" x=\"50\">the</tspan>\n",
       "    <tspan class=\"displacy-tag\" dy=\"2em\" fill=\"currentColor\" x=\"50\">DET</tspan>\n",
       "</text>\n",
       "\n",
       "<text class=\"displacy-token\" fill=\"currentColor\" text-anchor=\"middle\" y=\"137.0\">\n",
       "    <tspan class=\"displacy-word\" fill=\"currentColor\" x=\"140\">avengers</tspan>\n",
       "    <tspan class=\"displacy-tag\" dy=\"2em\" fill=\"currentColor\" x=\"140\">NOUN</tspan>\n",
       "</text>\n",
       "\n",
       "<text class=\"displacy-token\" fill=\"currentColor\" text-anchor=\"middle\" y=\"137.0\">\n",
       "    <tspan class=\"displacy-word\" fill=\"currentColor\" x=\"230\">is</tspan>\n",
       "    <tspan class=\"displacy-tag\" dy=\"2em\" fill=\"currentColor\" x=\"230\">VERB</tspan>\n",
       "</text>\n",
       "\n",
       "<text class=\"displacy-token\" fill=\"currentColor\" text-anchor=\"middle\" y=\"137.0\">\n",
       "    <tspan class=\"displacy-word\" fill=\"currentColor\" x=\"320\">better</tspan>\n",
       "    <tspan class=\"displacy-tag\" dy=\"2em\" fill=\"currentColor\" x=\"320\">ADJ</tspan>\n",
       "</text>\n",
       "\n",
       "<text class=\"displacy-token\" fill=\"currentColor\" text-anchor=\"middle\" y=\"137.0\">\n",
       "    <tspan class=\"displacy-word\" fill=\"currentColor\" x=\"410\">than</tspan>\n",
       "    <tspan class=\"displacy-tag\" dy=\"2em\" fill=\"currentColor\" x=\"410\">ADP</tspan>\n",
       "</text>\n",
       "\n",
       "<text class=\"displacy-token\" fill=\"currentColor\" text-anchor=\"middle\" y=\"137.0\">\n",
       "    <tspan class=\"displacy-word\" fill=\"currentColor\" x=\"500\">transformers</tspan>\n",
       "    <tspan class=\"displacy-tag\" dy=\"2em\" fill=\"currentColor\" x=\"500\">NOUN</tspan>\n",
       "</text>\n",
       "\n",
       "<text class=\"displacy-token\" fill=\"currentColor\" text-anchor=\"middle\" y=\"137.0\">\n",
       "    <tspan class=\"displacy-word\" fill=\"currentColor\" x=\"590\">in</tspan>\n",
       "    <tspan class=\"displacy-tag\" dy=\"2em\" fill=\"currentColor\" x=\"590\">ADP</tspan>\n",
       "</text>\n",
       "\n",
       "<text class=\"displacy-token\" fill=\"currentColor\" text-anchor=\"middle\" y=\"137.0\">\n",
       "    <tspan class=\"displacy-word\" fill=\"currentColor\" x=\"680\">the</tspan>\n",
       "    <tspan class=\"displacy-tag\" dy=\"2em\" fill=\"currentColor\" x=\"680\">DET</tspan>\n",
       "</text>\n",
       "\n",
       "<text class=\"displacy-token\" fill=\"currentColor\" text-anchor=\"middle\" y=\"137.0\">\n",
       "    <tspan class=\"displacy-word\" fill=\"currentColor\" x=\"770\">storyline</tspan>\n",
       "    <tspan class=\"displacy-tag\" dy=\"2em\" fill=\"currentColor\" x=\"770\">NOUN</tspan>\n",
       "</text>\n",
       "\n",
       "<g class=\"displacy-arrow\">\n",
       "    <path class=\"displacy-arc\" id=\"arrow-045dbbe844ac42e8bfd526589a11d694-0-0\" stroke-width=\"2px\" d=\"M70,92.0 C70,47.0 135.0,47.0 135.0,92.0\" fill=\"none\" stroke=\"currentColor\"/>\n",
       "    <text dy=\"1.25em\" style=\"font-size: 0.8em; letter-spacing: 1px\">\n",
       "        <textPath xlink:href=\"#arrow-045dbbe844ac42e8bfd526589a11d694-0-0\" class=\"displacy-label\" startOffset=\"50%\" side=\"left\" fill=\"currentColor\" text-anchor=\"middle\">det</textPath>\n",
       "    </text>\n",
       "    <path class=\"displacy-arrowhead\" d=\"M70,94.0 L62,82.0 78,82.0\" fill=\"currentColor\"/>\n",
       "</g>\n",
       "\n",
       "<g class=\"displacy-arrow\">\n",
       "    <path class=\"displacy-arc\" id=\"arrow-045dbbe844ac42e8bfd526589a11d694-0-1\" stroke-width=\"2px\" d=\"M160,92.0 C160,47.0 225.0,47.0 225.0,92.0\" fill=\"none\" stroke=\"currentColor\"/>\n",
       "    <text dy=\"1.25em\" style=\"font-size: 0.8em; letter-spacing: 1px\">\n",
       "        <textPath xlink:href=\"#arrow-045dbbe844ac42e8bfd526589a11d694-0-1\" class=\"displacy-label\" startOffset=\"50%\" side=\"left\" fill=\"currentColor\" text-anchor=\"middle\">nsubj</textPath>\n",
       "    </text>\n",
       "    <path class=\"displacy-arrowhead\" d=\"M160,94.0 L152,82.0 168,82.0\" fill=\"currentColor\"/>\n",
       "</g>\n",
       "\n",
       "<g class=\"displacy-arrow\">\n",
       "    <path class=\"displacy-arc\" id=\"arrow-045dbbe844ac42e8bfd526589a11d694-0-2\" stroke-width=\"2px\" d=\"M250,92.0 C250,47.0 315.0,47.0 315.0,92.0\" fill=\"none\" stroke=\"currentColor\"/>\n",
       "    <text dy=\"1.25em\" style=\"font-size: 0.8em; letter-spacing: 1px\">\n",
       "        <textPath xlink:href=\"#arrow-045dbbe844ac42e8bfd526589a11d694-0-2\" class=\"displacy-label\" startOffset=\"50%\" side=\"left\" fill=\"currentColor\" text-anchor=\"middle\">acomp</textPath>\n",
       "    </text>\n",
       "    <path class=\"displacy-arrowhead\" d=\"M315.0,94.0 L323.0,82.0 307.0,82.0\" fill=\"currentColor\"/>\n",
       "</g>\n",
       "\n",
       "<g class=\"displacy-arrow\">\n",
       "    <path class=\"displacy-arc\" id=\"arrow-045dbbe844ac42e8bfd526589a11d694-0-3\" stroke-width=\"2px\" d=\"M340,92.0 C340,47.0 405.0,47.0 405.0,92.0\" fill=\"none\" stroke=\"currentColor\"/>\n",
       "    <text dy=\"1.25em\" style=\"font-size: 0.8em; letter-spacing: 1px\">\n",
       "        <textPath xlink:href=\"#arrow-045dbbe844ac42e8bfd526589a11d694-0-3\" class=\"displacy-label\" startOffset=\"50%\" side=\"left\" fill=\"currentColor\" text-anchor=\"middle\">prep</textPath>\n",
       "    </text>\n",
       "    <path class=\"displacy-arrowhead\" d=\"M405.0,94.0 L413.0,82.0 397.0,82.0\" fill=\"currentColor\"/>\n",
       "</g>\n",
       "\n",
       "<g class=\"displacy-arrow\">\n",
       "    <path class=\"displacy-arc\" id=\"arrow-045dbbe844ac42e8bfd526589a11d694-0-4\" stroke-width=\"2px\" d=\"M430,92.0 C430,47.0 495.0,47.0 495.0,92.0\" fill=\"none\" stroke=\"currentColor\"/>\n",
       "    <text dy=\"1.25em\" style=\"font-size: 0.8em; letter-spacing: 1px\">\n",
       "        <textPath xlink:href=\"#arrow-045dbbe844ac42e8bfd526589a11d694-0-4\" class=\"displacy-label\" startOffset=\"50%\" side=\"left\" fill=\"currentColor\" text-anchor=\"middle\">pobj</textPath>\n",
       "    </text>\n",
       "    <path class=\"displacy-arrowhead\" d=\"M495.0,94.0 L503.0,82.0 487.0,82.0\" fill=\"currentColor\"/>\n",
       "</g>\n",
       "\n",
       "<g class=\"displacy-arrow\">\n",
       "    <path class=\"displacy-arc\" id=\"arrow-045dbbe844ac42e8bfd526589a11d694-0-5\" stroke-width=\"2px\" d=\"M520,92.0 C520,47.0 585.0,47.0 585.0,92.0\" fill=\"none\" stroke=\"currentColor\"/>\n",
       "    <text dy=\"1.25em\" style=\"font-size: 0.8em; letter-spacing: 1px\">\n",
       "        <textPath xlink:href=\"#arrow-045dbbe844ac42e8bfd526589a11d694-0-5\" class=\"displacy-label\" startOffset=\"50%\" side=\"left\" fill=\"currentColor\" text-anchor=\"middle\">prep</textPath>\n",
       "    </text>\n",
       "    <path class=\"displacy-arrowhead\" d=\"M585.0,94.0 L593.0,82.0 577.0,82.0\" fill=\"currentColor\"/>\n",
       "</g>\n",
       "\n",
       "<g class=\"displacy-arrow\">\n",
       "    <path class=\"displacy-arc\" id=\"arrow-045dbbe844ac42e8bfd526589a11d694-0-6\" stroke-width=\"2px\" d=\"M700,92.0 C700,47.0 765.0,47.0 765.0,92.0\" fill=\"none\" stroke=\"currentColor\"/>\n",
       "    <text dy=\"1.25em\" style=\"font-size: 0.8em; letter-spacing: 1px\">\n",
       "        <textPath xlink:href=\"#arrow-045dbbe844ac42e8bfd526589a11d694-0-6\" class=\"displacy-label\" startOffset=\"50%\" side=\"left\" fill=\"currentColor\" text-anchor=\"middle\">det</textPath>\n",
       "    </text>\n",
       "    <path class=\"displacy-arrowhead\" d=\"M700,94.0 L692,82.0 708,82.0\" fill=\"currentColor\"/>\n",
       "</g>\n",
       "\n",
       "<g class=\"displacy-arrow\">\n",
       "    <path class=\"displacy-arc\" id=\"arrow-045dbbe844ac42e8bfd526589a11d694-0-7\" stroke-width=\"2px\" d=\"M610,92.0 C610,2.0 770.0,2.0 770.0,92.0\" fill=\"none\" stroke=\"currentColor\"/>\n",
       "    <text dy=\"1.25em\" style=\"font-size: 0.8em; letter-spacing: 1px\">\n",
       "        <textPath xlink:href=\"#arrow-045dbbe844ac42e8bfd526589a11d694-0-7\" class=\"displacy-label\" startOffset=\"50%\" side=\"left\" fill=\"currentColor\" text-anchor=\"middle\">pobj</textPath>\n",
       "    </text>\n",
       "    <path class=\"displacy-arrowhead\" d=\"M770.0,94.0 L778.0,82.0 762.0,82.0\" fill=\"currentColor\"/>\n",
       "</g>\n",
       "</svg>"
      ],
      "text/plain": [
       "<IPython.core.display.HTML object>"
      ]
     },
     "metadata": {},
     "output_type": "display_data"
    }
   ],
   "source": [
    "# show an example \n",
    "doc = nlp(u\"the avengers is better than transformers in the storyline\")\n",
    "print([(w.text, w.pos_) for w in doc])\n",
    "displacy.render(doc, style= 'dep', jupyter = True, options={'distance':90})"
   ]
  },
  {
   "cell_type": "code",
   "execution_count": 5,
   "metadata": {},
   "outputs": [],
   "source": [
    "# # ‘nlp’ already apply dependency parsing on all the movie review\n",
    "doc = open('movies_com.txt').read()\n",
    "doc = nlp(doc)"
   ]
  },
  {
   "cell_type": "code",
   "execution_count": 16,
   "metadata": {
    "scrolled": false
   },
   "outputs": [
    {
     "name": "stdout",
     "output_type": "stream",
     "text": [
      "the : []\n",
      "directing : [the, of]\n",
      "of : [War]\n",
      "Avengers : []\n",
      "Infinify : []\n",
      "War : [Avengers, Infinify]\n",
      "is : [directing, straightforward, .]\n",
      "more : []\n",
      "straightforward : [more, than]\n",
      "than : [Endgame]\n",
      "the : []\n",
      "Avengers : []\n",
      "Endgame : [the, Avengers]\n",
      ". : [\n",
      "]\n",
      "\n",
      " : []\n"
     ]
    }
   ],
   "source": [
    "# let us take a look \n",
    "dp = [sent for sent in doc.sents if 'avengers' in sent.string.lower()]\n",
    "sentence = dp[10] \n",
    "for word in sentence:\n",
    "    print(word,':', str(list(word.children)))"
   ]
  },
  {
   "cell_type": "code",
   "execution_count": null,
   "metadata": {},
   "outputs": [],
   "source": []
  },
  {
   "cell_type": "code",
   "execution_count": 177,
   "metadata": {},
   "outputs": [],
   "source": [
    "all_tags = {w.pos: w.pos_ for w in document}"
   ]
  },
  {
   "cell_type": "code",
   "execution_count": 182,
   "metadata": {},
   "outputs": [
    {
     "name": "stdout",
     "output_type": "stream",
     "text": [
      "Captain NNP <generator object at 0x000001FCFD83B048>\n",
      "America NNP <generator object at 0x000001FCFD83B048>\n",
      "Civil NNP <generator object at 0x000001FCFD83B048>\n",
      "War NNP <generator object at 0x000001FCFD83B048>\n",
      "has VBZ <generator object at 0x000001FCFD83B048>\n",
      "a DT <generator object at 0x000001FCFD83B048>\n",
      "more RBR <generator object at 0x000001FCFD83B048>\n",
      "tedious JJ <generator object at 0x000001FCFD83B048>\n",
      "stories NNS <generator object at 0x000001FCFD83B048>\n",
      "than IN <generator object at 0x000001FCFD83B048>\n",
      "Spider NNP <generator object at 0x000001FCFD83B048>\n",
      "Man NNP <generator object at 0x000001FCFD83B048>\n",
      ", , <generator object at 0x000001FCFD83B048>\n",
      "superheroes NNS <generator object at 0x000001FCFD83B048>\n",
      "are VBP <generator object at 0x000001FCFD83B048>\n",
      "a DT <generator object at 0x000001FCFD83B048>\n",
      "waste NN <generator object at 0x000001FCFD83B048>\n",
      "of IN <generator object at 0x000001FCFD83B048>\n",
      "time NN <generator object at 0x000001FCFD83B048>\n",
      "always RB <generator object at 0x000001FCFD83B048>\n",
      ". . <generator object at 0x000001FCFD83B048>\n"
     ]
    }
   ],
   "source": [
    "for word in list(doc.sents)[0]:  \n",
    "    print(word, word.tag_, word.ancestors)"
   ]
  },
  {
   "cell_type": "code",
   "execution_count": null,
   "metadata": {},
   "outputs": [],
   "source": []
  },
  {
   "cell_type": "code",
   "execution_count": 41,
   "metadata": {},
   "outputs": [],
   "source": [
    "#一些参数定义\n",
    "noisy_pos_tags = ['PROP'\n",
    "min_token_length = 2\n",
    "\n",
    "#检查 token 是不是噪音的函数\n",
    "def isNoise(token):     \n",
    "    is_noise = False\n",
    "    if token.pos_ in noisy_pos_tags:\n",
    "        is_noise = True\n",
    "    elif token.is_stop == True:\n",
    "        is_noise = True\n",
    "    elif len(token.string) <= min_token_length:\n",
    "        is_noise = True\n",
    "    return is_noise\n",
    "def cleanup(token, lower = True):\n",
    "    if lower:\n",
    "       token = token.lower()\n",
    "    return token.strip()\n",
    "\n"
   ]
  },
  {
   "cell_type": "code",
   "execution_count": 42,
   "metadata": {
    "scrolled": true
   },
   "outputs": [
    {
     "data": {
      "text/plain": [
       "[('avengers', 290),\n",
       " ('war', 199),\n",
       " ('infinity', 144),\n",
       " ('endgame', 143),\n",
       " ('better', 74)]"
      ]
     },
     "execution_count": 42,
     "metadata": {},
     "output_type": "execute_result"
    }
   ],
   "source": [
    "from collections import Counter\n",
    "cleaned_list = [cleanup(word.string) for word in document if not isNoise(word)]\n",
    "Counter(cleaned_list) .most_common(5)\n"
   ]
  },
  {
   "cell_type": "code",
   "execution_count": 55,
   "metadata": {},
   "outputs": [
    {
     "name": "stdout",
     "output_type": "stream",
     "text": [
      "WORK_OF_ART ['The Winter Soldier', 'X-Men Apocalypse', 'The Winter Soldier and Ragnarok', 'the Doctor Strange', 'Avengers Infinity War', 'the Avengers Endgame']\n",
      "TIME ['3 and half hours']\n",
      "ORDINAL ['second', 'first']\n",
      "EVENT ['the Avengers Infinity War', 'Captain America Civil War', 'Civil War', 'America Civil War', 'The Avengers Infinity War', 'Avengers Infinity War', 'the Doctor Strange', 'Infinity War', 'Avengers Infinity War to Avengers Endgame']\n",
      "NORP ['Marvel', 'Better', 'Guardians']\n",
      "PERSON [\"Captain Marvel's\", 'Avengers Endgame', 'Matrix', 'Forrest Gump', 'Strange', 'Avengers Age', 'Captain Marvel', 'Netflix John Wick 3', 'Team Thor', 'Marvel', 'America Civil', 'Stan Lee']\n",
      "LAW ['the Doctor Strange']\n",
      "ORG ['Avengers Infinity War to Avengers Endgame', 'the Avengers Infinity War', 'Avengers Infinity', 'Ultron', 'Avengers Infinify War', 'Team Thorn', 'Avengers Infinity War and Avengers Endgame', 'Avengers Infinity War', 'Blade', \"Avengers Infinity War's\", 'the Captain America Civil War', 'Times', 'WAY Better']\n",
      "GPE ['America', 'Inception']\n",
      "LOC ['Captain America']\n",
      "DATE ['recent years', 'winter', '10 years', 'ten years']\n",
      "PRODUCT ['Marvel', 'the Doctor Strange', 'the Team Thor']\n",
      "CARDINAL ['2', 'half', 'two', 'one', '14 million']\n"
     ]
    }
   ],
   "source": [
    "labels = set([w.label_ for w in document.ents])\n",
    "for label in labels:\n",
    "    entities = [cleanup(e.string, lower=False) for e in document.ents if label==e.label_]\n",
    "    entities = list(set(entities))\n",
    "    print(label,entities)\n"
   ]
  },
  {
   "cell_type": "code",
   "execution_count": 56,
   "metadata": {},
   "outputs": [],
   "source": [
    "Avengers = [sent for sent in document.sents if 'avengers' in sent.string.lower()]"
   ]
  },
  {
   "cell_type": "code",
   "execution_count": 57,
   "metadata": {},
   "outputs": [
    {
     "name": "stdout",
     "output_type": "stream",
     "text": [
      "the :  []\n",
      "directing :  [the, of]\n",
      "of :  [War]\n",
      "Avengers :  []\n",
      "Infinify :  []\n",
      "War :  [Avengers, Infinify]\n",
      "is :  [directing, straightforward, .]\n",
      "more :  []\n",
      "straightforward :  [more, than]\n",
      "than :  [Endgame]\n",
      "the :  []\n",
      "Avengers :  []\n",
      "Endgame :  [the, Avengers]\n",
      ". :  [\n",
      "]\n",
      "\n",
      " :  []\n"
     ]
    }
   ],
   "source": [
    "sentence = Avengers[2] \n",
    "for word in sentence:\n",
    "    print(word, ': ', str(list(word.children)))"
   ]
  },
  {
   "cell_type": "code",
   "execution_count": 48,
   "metadata": {},
   "outputs": [
    {
     "data": {
      "text/plain": [
       "[('better', 126),\n",
       " ('more', 63),\n",
       " ('much', 38),\n",
       " ('best', 27),\n",
       " ('surprising', 26),\n",
       " ('final', 22),\n",
       " ('latest', 22),\n",
       " ('powerful', 21),\n",
       " ('exciting', 20),\n",
       " ('good', 18)]"
      ]
     },
     "execution_count": 48,
     "metadata": {},
     "output_type": "execute_result"
    }
   ],
   "source": [
    "def pos_words (sentence, token, ptag):\n",
    "    sentences = [sent for sent in sentence.sents if token in sent.string]     \n",
    "    pwrds = []\n",
    "    for sent in sentences:\n",
    "        for word in sent:\n",
    "            for character in word.string:\n",
    "                   pwrds.extend([child.string.strip() for child in word.children\n",
    "                                                      if child.pos_ == ptag] )\n",
    "    return Counter(pwrds).most_common(10)\n",
    "\n",
    "pos_words(document, 'Infinity War', 'ADJ')\n"
   ]
  },
  {
   "cell_type": "code",
   "execution_count": null,
   "metadata": {},
   "outputs": [],
   "source": [
    "# 寻找token 为 better 主语为 电影名称的句子\n",
    "def pos_words (sentence, token, ptag):\n",
    "    sentences = [sent for sent in sentence.sents if token in sent.string]     \n",
    "    pwrds = []\n",
    "    for sent in sentences:\n",
    "        for word in sent:\n",
    "            for character in word.string:\n",
    "                   pwrds.extend([child.string.strip() for child in word.children\n",
    "                                                      if child.pos_ == ptag] )\n",
    "    return Counter(pwrds).most_common(10)\n",
    "\n",
    "pos_words(document, 'Infinity War', 'ADJ')"
   ]
  },
  {
   "cell_type": "code",
   "execution_count": 111,
   "metadata": {},
   "outputs": [],
   "source": [
    "document = nlp(u'Captain America Civil War definitely is better than spider-man, well, a litter brother. ')\n",
    "verbs = []\n",
    "nsubj = []\n",
    "\n",
    "for possible_verb in document:\n",
    "    if possible_verb.pos == VERB:\n",
    "        for possible_subject in possible_verb.children:\n",
    "            if possible_subject.dep == nsubj:\n",
    "                verbs.append(possible_verb)"
   ]
  },
  {
   "cell_type": "code",
   "execution_count": 146,
   "metadata": {},
   "outputs": [],
   "source": [
    "document = nlp(u'Captain America Civil War definitely is better than spider-man, well, a litter brother. ')"
   ]
  },
  {
   "cell_type": "code",
   "execution_count": 119,
   "metadata": {},
   "outputs": [
    {
     "name": "stdout",
     "output_type": "stream",
     "text": [
      "compound\n",
      "compound\n",
      "compound\n",
      "nsubj\n",
      "advmod\n",
      "ROOT\n",
      "acomp\n",
      "prep\n",
      "compound\n",
      "punct\n",
      "pobj\n",
      "punct\n",
      "intj\n",
      "punct\n",
      "det\n",
      "compound\n",
      "attr\n",
      "punct\n"
     ]
    }
   ],
   "source": [
    "for token in document:\n",
    "    print(token.dep_)"
   ]
  },
  {
   "cell_type": "code",
   "execution_count": 171,
   "metadata": {},
   "outputs": [
    {
     "name": "stdout",
     "output_type": "stream",
     "text": [
      "sentence:\n",
      "4\n",
      "['war', 'has', 'stories', 'than', 'man']\n"
     ]
    }
   ],
   "source": [
    "# try Shortest path in spacy\n",
    "import spacy\n",
    "import networkx as nx\n",
    "nlp = spacy.load(\"en_core_web_sm\")\n",
    "doc = nlp(u'Captain America Civil War has a more tedious stories than Spider Man, superheroes are a waste of time always. ')\n",
    "print('sentence:'.format(doc))\n",
    "# Load spacy's dependency tree into a networkx graph\n",
    "edges = []\n",
    "for token in doc:\n",
    "    for child in token.children:\n",
    "        edges.append(('{0}'.format(token.lower_),\n",
    "                      '{0}'.format(child.lower_)))\n",
    "graph = nx.Graph(edges)\n",
    "# Get the length and path\n",
    "entity1 = 'War'.lower()\n",
    "entity2 = 'Man'.lower()\n",
    "print(nx.shortest_path_length(graph, source=entity1, target=entity2))\n",
    "print(nx.shortest_path(graph, source=entity1, target=entity2))"
   ]
  },
  {
   "cell_type": "code",
   "execution_count": 172,
   "metadata": {},
   "outputs": [
    {
     "name": "stdout",
     "output_type": "stream",
     "text": [
      "to show you how computers understand language\n",
      "how computers understand language\n",
      "to show you how computers understand language | show\n",
      "how computers understand language | understand\n"
     ]
    }
   ],
   "source": [
    "from __future__ import unicode_literals, print_function\n",
    "\n",
    "import plac\n",
    "import spacy\n",
    "doc = nlp(\n",
    "        \"displaCy uses CSS and JavaScript to show you how computers \"\n",
    "        \"understand language\"\n",
    "    )\n",
    "\n",
    "    # The easiest way is to find the head of the subtree you want, and then use\n",
    "    # the `.subtree`, `.children`, `.lefts` and `.rights` iterators. `.subtree`\n",
    "    # is the one that does what you're asking for most directly:\n",
    "for word in doc:\n",
    "        if word.dep_ in (\"xcomp\", \"ccomp\"):\n",
    "            print(\"\".join(w.text_with_ws for w in word.subtree))\n",
    "\n",
    "    # It'd probably be better for `word.subtree` to return a `Span` object\n",
    "    # instead of a generator over the tokens. If you want the `Span` you can\n",
    "    # get it via the `.right_edge` and `.left_edge` properties. The `Span`\n",
    "    # object is nice because you can easily get a vector, merge it, etc.\n",
    "for word in doc:\n",
    "        if word.dep_ in (\"xcomp\", \"ccomp\"):\n",
    "            subtree_span = doc[word.left_edge.i : word.right_edge.i + 1]\n",
    "            print(subtree_span.text, \"|\", subtree_span.root.text)"
   ]
  }
 ],
 "metadata": {
  "kernelspec": {
   "display_name": "Python 3",
   "language": "python",
   "name": "python3"
  },
  "language_info": {
   "codemirror_mode": {
    "name": "ipython",
    "version": 3
   },
   "file_extension": ".py",
   "mimetype": "text/x-python",
   "name": "python",
   "nbconvert_exporter": "python",
   "pygments_lexer": "ipython3",
   "version": "3.6.8"
  }
 },
 "nbformat": 4,
 "nbformat_minor": 2
}
