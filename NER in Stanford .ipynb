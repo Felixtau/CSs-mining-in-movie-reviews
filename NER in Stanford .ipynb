{
 "cells": [
  {
   "cell_type": "code",
   "execution_count": 2,
   "metadata": {},
   "outputs": [],
   "source": [
    "import nltk\n",
    "import os\n",
    "from warnings import filterwarnings\n",
    "filterwarnings(\"ignore\")\n",
    "os.environ['JAVAHOME'] = 'C://Users//felix//jdk-12.0.2'"
   ]
  },
  {
   "cell_type": "code",
   "execution_count": 4,
   "metadata": {},
   "outputs": [
    {
     "name": "stdout",
     "output_type": "stream",
     "text": [
      "238\n"
     ]
    }
   ],
   "source": [
    "# load the data\n",
    "# with open(\"review_0408.txt\",\"r\") as f:\n",
    "#     lines = [l.strip()[0:-2] for l in f.readlines()]\n",
    "#     lines = [l.lower() for l in lines if l!=\"\"]\n",
    "# print(len(lines))\n",
    "\n",
    "with open(\"movies_com.txt\",\"r\") as f:\n",
    "    lines = [l.strip() for l in f.readlines()]\n",
    "    lines = [l.lower() for l in lines if l!=\"\"]\n",
    "print(len(lines))"
   ]
  },
  {
   "cell_type": "code",
   "execution_count": 5,
   "metadata": {},
   "outputs": [
    {
     "name": "stdout",
     "output_type": "stream",
     "text": [
      "[('avengers', 'O'), ('infinity', 'O'), ('war', 'O'), ('was', 'O'), ('way', 'O'), ('better', 'O'), ('than', 'O'), ('avengers', 'O'), ('endgame', 'O'), ('in', 'O'), ('terms', 'O'), ('of', 'O'), ('their', 'O'), ('stories.', 'O')]\n",
      "\n",
      "[('avengers', 'O'), ('infinity', 'O'), ('war', 'O'), ('is', 'O'), ('preferred', 'O'), ('because', 'O'), ('the', 'O'), ('production', 'O'), ('design', 'O'), ('is', 'O'), ('more', 'O'), ('refined', 'O'), ('than', 'O'), ('avengers', 'O'), ('endgame.', 'O')]\n",
      "\n",
      "[('i', 'O'), ('donot', 'O'), ('like', 'O'), ('the', 'O'), ('avengers', 'O'), ('endgame', 'O'), ('because', 'O'), ('the', 'O'), ('script', 'O'), ('is', 'O'), ('not', 'O'), ('as', 'O'), ('good', 'O'), ('as', 'O'), ('avengers', 'O'), ('infinity', 'O'), ('war.', 'O')]\n",
      "\n",
      "[('avengers', 'O'), ('infinity', 'O'), ('war', 'O'), ('has', 'O'), ('better', 'O'), ('interaction', 'O'), ('with', 'O'), ('audience', 'O'), ('than', 'O'), ('the', 'O'), ('avengers', 'O'), ('endgame.', 'O')]\n",
      "\n",
      "[('avengers', 'O'), ('endgame', 'O'), ('has', 'O'), ('significantly', 'O'), ('more', 'O'), ('special', 'O'), ('effects', 'O'), ('in', 'O'), ('directing', 'O'), ('than', 'O'), ('avengers', 'O'), ('endgame.', 'O')]\n",
      "\n"
     ]
    }
   ],
   "source": [
    "# define the NER\n",
    "from nltk.tag import StanfordNERTagger\n",
    "ent_tagger=StanfordNERTagger(\"./stanford-ner-2018-10-16/classifiers/english.conll.4class.distsim.crf.ser.gz\",\"./stanford-ner-2018-10-16/stanford-ner.jar\")\n",
    "\n",
    "#test the first five rows, try to get movie named entities\n",
    "for line in lines[0:5]:\n",
    "    line = line.split()\n",
    "    print(ent_tagger.tag(line))\n",
    "    print()\n",
    "# Stanford NER cannot recognize movie names as named entity \n"
   ]
  },
  {
   "cell_type": "code",
   "execution_count": null,
   "metadata": {},
   "outputs": [],
   "source": [
    "# conclude: stanford NER cannot recognize movie named entity"
   ]
  }
 ],
 "metadata": {
  "kernelspec": {
   "display_name": "Python 3",
   "language": "python",
   "name": "python3"
  },
  "language_info": {
   "codemirror_mode": {
    "name": "ipython",
    "version": 3
   },
   "file_extension": ".py",
   "mimetype": "text/x-python",
   "name": "python",
   "nbconvert_exporter": "python",
   "pygments_lexer": "ipython3",
   "version": "3.6.8"
  }
 },
 "nbformat": 4,
 "nbformat_minor": 2
}
