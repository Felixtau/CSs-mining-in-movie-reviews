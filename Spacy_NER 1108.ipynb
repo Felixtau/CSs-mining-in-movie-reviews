{
 "cells": [
  {
   "cell_type": "code",
   "execution_count": 3,
   "metadata": {},
   "outputs": [
    {
     "name": "stdout",
     "output_type": "stream",
     "text": [
      "[('the', 'DET'), ('Titanic', 'PROPN'), ('is', 'VERB'), ('a', 'DET'), ('movie', 'NOUN'), ('.', 'PUNCT')]\n"
     ]
    }
   ],
   "source": [
    "import en_core_web_sm\n",
    "nlp = en_core_web_sm.load()\n",
    "doc = nlp(u\"the Titanic is a movie.\")\n",
    "print([(w.text, w.pos_) for w in doc])"
   ]
  },
  {
   "cell_type": "code",
   "execution_count": 9,
   "metadata": {
    "scrolled": true
   },
   "outputs": [
    {
     "name": "stdout",
     "output_type": "stream",
     "text": [
      "Statring iteration 0\n",
      "{'ner': 281.6236272282366}\n",
      "Statring iteration 1\n",
      "{'ner': 229.89479927234407}\n",
      "Statring iteration 2\n",
      "{'ner': 208.63154513504847}\n",
      "Statring iteration 3\n",
      "{'ner': 224.5814470639796}\n",
      "Statring iteration 4\n",
      "{'ner': 236.65904564798632}\n",
      "Statring iteration 5\n",
      "{'ner': 181.39081335994905}\n",
      "Statring iteration 6\n",
      "{'ner': 177.56352674509148}\n",
      "Statring iteration 7\n",
      "{'ner': 190.94281819032426}\n",
      "Statring iteration 8\n",
      "{'ner': 245.38268912387952}\n",
      "Statring iteration 9\n",
      "{'ner': 190.7173940495313}\n",
      "Statring iteration 10\n",
      "{'ner': 155.28896782149712}\n",
      "Statring iteration 11\n",
      "{'ner': 179.85780202057583}\n",
      "Statring iteration 12\n",
      "{'ner': 172.88107975039318}\n",
      "Statring iteration 13\n",
      "{'ner': 141.94427102592184}\n",
      "Statring iteration 14\n",
      "{'ner': 181.14298059330818}\n",
      "Statring iteration 15\n",
      "{'ner': 160.00173308260855}\n",
      "Statring iteration 16\n",
      "{'ner': 163.81290810801633}\n",
      "Statring iteration 17\n",
      "{'ner': 141.3728779357684}\n",
      "Statring iteration 18\n",
      "{'ner': 149.75870582895976}\n",
      "Statring iteration 19\n",
      "{'ner': 142.67522764645278}\n",
      "Enter your Model Name: kkk\n",
      "Enter your testing text: Infinity war was much better than ant-man\n"
     ]
    }
   ],
   "source": [
    "from __future__ import unicode_literals, print_function\n",
    "\n",
    "import plac\n",
    "import random\n",
    "from pathlib import Path\n",
    "import spacy\n",
    "from spacy.util import minibatch, compounding\n",
    "\n",
    "\n",
    "TRAIN_DATA = [(\"I would have to say captain marvel's plot line was even better than iron man.\", {'entities': [(20, 34, 'moviename')]}), \n",
    "              (\"I would have to say captain marvel's plot line was even better than iron man.\", {'entities': [(68, 76, 'moviename')]}), \n",
    "              ('no one deney that The  iron man  is better than captain marvel in terms of plots', {'entities': [(23, 31, 'moviename')]}), \n",
    "              ('no one deney that The  iron man  is better than captain marvel in terms of plots', {'entities': [(48, 62, 'moviename')]}), \n",
    "              (\"i realized  iron man 's script was way better than captain marvel.\", {'entities': [(12, 20, 'moviename')]}), \n",
    "              (\"i realized  iron man 's script was way better than captain marvel.\", {'entities': [(12, 20, 'moviename')]}), \n",
    "              ('I would say  iron man was less boring compared with captain marvel.', {'entities': [(52, 66, 'moviename')]}), \n",
    "              ('I would say  iron man was less boring compared with captain marvel.', {'entities': [(13, 21, 'moviename')]}), \n",
    "              ('i found that the captain marvel had more interaction with audience than  iron man.', {'entities': [(17, 31, 'moviename')]}), \n",
    "              ('i found that the captain marvel had more interaction with audience than  iron man.', {'entities': [(73, 81, 'moviename')]}), \n",
    "              ('the script of the first avenger was more intriguing than the thor', {'entities': [(14, 31, 'moviename')]}), \n",
    "              ('the script of the first avenger was more intriguing than the thor', {'entities': [(61, 65, 'moviename')]}), \n",
    "              (\"most people don't understand the thor  is more uproarious than the first avenger \", {'entities': [(33, 37, 'moviename')]}), \n",
    "              (\"most people don't understand the thor  is more uproarious than the first avenger \", {'entities': [(63, 81, 'moviename')]}), \n",
    "              ('the first avenger has a more tendious storires than thor, superheros are a waste of time always.', {'entities': [(0, 17, 'moviename')]}), \n",
    "              ('the first avenger has a more tendious storires than thor, superheros are a waste of time always.', {'entities': [(52, 56, 'moviename')]}), \n",
    "              ('thor was second-rate, the first avenger  was was better than captain american.', {'entities': [(22, 39, 'moviename')]}), \n",
    "              ('thor was second-rate, the first avenger  was was better than captain american.', {'entities': [(61, 77, 'moviename')]}), \n",
    "              ('the ending of the first avenger  is somewhat more surprising than the thor.', {'entities': [(14, 31, 'moviename')]}), \n",
    "              ('the ending of the first avenger  is somewhat more surprising than the thor.', {'entities': [(70, 74, 'moviename')]}), \n",
    "              ('the incredible hulk  made me more absorbing into the story while ant-man sucks.', {'entities': [(0, 20, 'moviename')]}), \n",
    "              ('the incredible hulk  made me more absorbing into the story while ant-man sucks.', {'entities': [(65, 72, 'moviename')]}), \n",
    "              ('the ant-man did not interact with us and the incredible hulk  did better than the batman.', {'entities': [(4, 11, 'moviename')]}), \n",
    "              ('the ant-man did not interact with us and the incredible hulk  did better than the batman.', {'entities': [(41, 60, 'moviename')]}), \n",
    "              ('the quality of production of the incredible hulk was way better than ant-man. ', {'entities': [(29, 48, 'moviename')]}), \n",
    "              ('the quality of production of the incredible hulk was way better than ant-man. ', {'entities': [(69, 76, 'moviename')]}), \n",
    "              ('I loved the incredible hulk but ant-man on the other hand is utter trash.', {'entities': [(32, 39, 'moviename')]}), \n",
    "              ('I loved the incredible hulk but ant-man on the other hand is utter trash.', {'entities': [(8, 27, 'moviename')]}), \n",
    "              ('I think the incredible hulk  is even better than ant-man for a connection with the characters.', {'entities': [(8, 28, 'moviename')]}), \n",
    "              ('I think the incredible hulk  is even better than ant-man for a connection with the characters.', {'entities': [(49, 56, 'moviename')]}), \n",
    "              ('infinity wars set up an amazing open end and endgame ruins 10 years of Marvel films.', {'entities': [(0, 13, 'moviename')]}), \n",
    "              ('infinity wars set up an amazing open end and endgame ruins 10 years of Marvel films.', {'entities': [(45, 52, 'moviename')]}),\n",
    "              ('I did not think that the ending of endgame was lacklustre, or less exciting than infinity war.', {'entities': [(35, 42, 'moviename')]}), \n",
    "              ('I did not think that the ending of endgame was lacklustre, or less exciting than infinity war.', {'entities': [(81, 93, 'moviename')]}), \n",
    "              ('Personally, I would have to say endgame was even better than infinity war, most likely due to the fact that it is the grand finale of all these movies.', {'entities': [(32, 39, 'moviename')]}), \n",
    "              ('Personally, I would have to say endgame was even better than infinity war, most likely due to the fact that it is the grand finale of all these movies.', {'entities': [(61, 73, 'moviename')]}), \n",
    "              ('The infinity war is better than endgame in terms of plots.', {'entities': [(4, 16, 'moviename')]}), \n",
    "              ('The infinity war is better than endgame in terms of plots.', {'entities': [(32, 39, 'moviename')]}), \n",
    "              ('endgame is a disappointment when compared to infinity war but still a fun watch for fans.', {'entities': [(0, 7, 'moviename')]}), \n",
    "              ('endgame is a disappointment when compared to infinity war but still a fun watch for fans.', {'entities': [(45, 57, 'moviename')]}), \n",
    "              ('endgame is not on par with infinity war. ', {'entities': [(0, 7, 'moviename')]}), \n",
    "              ('endgame is not on par with infinity war. ', {'entities': [(27, 39, 'moviename')]}), \n",
    "              ('The entry of Captain America with the background sound to save Vision in Infinity War was again epic but in Endgame it is not at all exciting.', {'entities': [(13, 28, 'moviename')]}), \n",
    "              ('The entry of Captain America with the background sound to save Vision in Infinity War was again epic but in Endgame it is not at all exciting.', {'entities': [(73, 85, 'moviename')]}), \n",
    "              ('The entry of Captain America with the background sound to save Vision in Infinity War was again epic but in Endgame it is not at all exciting.', {'entities': [(108, 115, 'moviename')]}), \n",
    "              (\"Infinity war's script was way better than endgame.\", {'entities': [(0, 12, 'moviename')]}), \n",
    "              (\"Infinity war's script was way better than endgame.\", {'entities': [(42, 49, 'moviename')]}), \n",
    "              ('endgame is more successful than infinity war. ', {'entities': [(0, 7, 'moviename')]}), \n",
    "              ('endgame is more successful than infinity war. ', {'entities': [(32, 44, 'moviename')]}), \n",
    "              (\"It's a pitty that after doctor strange, which was awesome, we got black panther this dissapointing finale.\", {'entities': [(24, 38, 'moviename')]}), \n",
    "              (\"It's a pitty that after doctor strange, which was awesome, we got black panther this dissapointing finale.\", {'entities': [(66, 79, 'moviename')]}), \n",
    "              ('black panther has more character development than the doctor strange.', {'entities': [(0, 13, 'moviename')]}), \n",
    "              ('black panther has more character development than the doctor strange.', {'entities': [(54, 68, 'moviename')]}), \n",
    "              ('doctor strange has a more wired tone than it in black panther, such a different tone from all the Marvel films before.', {'entities': [(0, 14, 'moviename')]}), \n",
    "              ('doctor strange has a more wired tone than it in black panther, such a different tone from all the Marvel films before.', {'entities': [(48, 61, 'moviename')]}), \n",
    "              ('black panther was 14 million Times Better than doctor strange.', {'entities': [(0, 13, 'moviename')]}), \n",
    "              ('black panther was 14 million Times Better than doctor strange.', {'entities': [(47, 61, 'moviename')]}), \n",
    "              ('I quite enjoyed doctor strange to some extent but black panther was just plain stupid.', {'entities': [(16, 30, 'moviename')]}), \n",
    "              ('I quite enjoyed doctor strange to some extent but black panther was just plain stupid.', {'entities': [(50, 63, 'moviename')]}), \n",
    "              (\"It's just too many characters for one movie, even though the dark world did it much better than the winter soldier.\", {'entities': [(57, 71, 'moviename')]}), \n",
    "              (\"It's just too many characters for one movie, even though the dark world did it much better than the winter soldier.\", {'entities': [(96, 114, 'moviename')]}), \n",
    "              ('the dark world was way better than the winter soldier for its plot.', {'entities': [(0, 14, 'moviename')]}), \n",
    "              ('the dark world was way better than the winter soldier for its plot.', {'entities': [(35, 53, 'moviename')]}), \n",
    "              ('Went into movie theater expecting an epic finale and the winter soldier is much better movie than the dark world.', {'entities': [(53, 71, 'moviename')]}), \n",
    "              ('Went into movie theater expecting an epic finale and the winter soldier is much better movie than the dark world.', {'entities': [(98, 112, 'moviename')]}), \n",
    "              ('the dark world kept me interested the whole time, more than the winter soldier.', {'entities': [(0, 14, 'moviename')]}), \n",
    "              ('the dark world kept me interested the whole time, more than the winter soldier.', {'entities': [(60, 78, 'moviename')]}), \n",
    "              ('the winter soldier has a very bad script, the dark world is the best.', {'entities': [(0, 18, 'moviename')]}), \n",
    "              ('the winter soldier has a very bad script, the dark world is the best.', {'entities': [(42, 56, 'moviename')]}), \n",
    "              ('compared with age of ultron, the story of guardians of the galaxy is worse and rubbish.', {'entities': [(14, 27, 'moviename')]}), \n",
    "              ('compared with age of ultron, the story of guardians of the galaxy is worse and rubbish.', {'entities': [(42, 65, 'moviename')]}), \n",
    "              ('age of ultron is not as good or as tightly written as guardians of the galaxy.', {'entities': [(0, 13, 'moviename')]}), \n",
    "              ('age of ultron is not as good or as tightly written as guardians of the galaxy.', {'entities': [(54, 77, 'moviename')]}), \n",
    "              ('guardians of the galaxy is Part 2 of age of ultron and it just keeps getting better.', {'entities': [(0, 23, 'moviename')]}), \n",
    "              ('guardians of the galaxy is Part 2 of age of ultron and it just keeps getting better.', {'entities': [(37, 50, 'moviename')]}),\n",
    "              ('compared with age of ultron,guardians of the galaxy is ultimately the superior movie.', {'entities': [(14, 27, 'moviename')]}),\n",
    "              ('compared with age of ultron,guardians of the galaxy is ultimately the superior movie.', {'entities': [(28, 51, 'moviename')]}),\n",
    "              (\"I've expected much more as it was the final chapter but to be honest age of ultron was much more interesting and mind banding than guardians of the galaxy. \", {'entities': [(69, 83, 'moviename')]}), \n",
    "              (\"I've expected much more as it was the final chapter but to be honest age of ultron was much more interesting and mind banding than guardians of the galaxy. \", {'entities': [(131, 154, 'moviename')]}), \n",
    "              ('Infinity war was much better than endgame.', {'entities': [(0, 12, 'moviename')]}), \n",
    "              ('Infinity war was much better than endgame.', {'entities': [(34, 41, 'moviename')]}), \n",
    "              ('i prefer captain american beacuse captain american have more tension than tupleseman.', {'entities': [(9, 25, 'moviename')]}),\n",
    "              ('i prefer captain american beacuse captain american have more tension than tupleseman.', {'entities': [(74, 84, 'moviename')]}),\n",
    "              ('the majority of people will like tupleseman聽 more than captain american.', {'entities': [(33, 43, 'moviename')]}),\n",
    "              ('i prefer captain american beacuse captain american have more tension than tupleseman.', {'entities': [(9, 25, 'moviename')]}), \n",
    "              ('i prefer captain american beacuse captain american have more tension than tupleseman.', {'entities': [(74, 84, 'moviename')]}), \n",
    "              ('the majority of people will like tupleseman聽 more than captain american.', {'entities': [(33, 43, 'moviename')]}), \n",
    "              ('the majority of people will like tupleseman聽 more than captain american.', {'entities': [(55, 71, 'moviename')]}), \n",
    "              (\"I guess you could say that captain american doesn't balance it's tone as well as tupleseman聽 did.聽\", {'entities': [(27, 43, 'moviename')]}),\n",
    "              (\"I guess you could say that captain american doesn't balance it's tone as well as tupleseman聽 did.聽\", {'entities': [(81, 91, 'moviename')]}), \n",
    "              ('I loved tupleseman聽 but captain american on the other hand is utter trash', {'entities': [(8, 18, 'moviename')]}), \n",
    "              ('I loved tupleseman聽 but captain american on the other hand is utter trash', {'entities': [(24, 40, 'moviename')]}), \n",
    "              ('the ending of captain american was less exciting than tupleseman聽', {'entities': [(14, 30, 'moviename')]}), \n",
    "              ('the ending of captain american was less exciting than tupleseman聽', {'entities': [(54, 64, 'moviename')]})]\n",
    "\n",
    "def train_spacy(data,iterations):\n",
    "    TRAIN_DATA = data\n",
    "    nlp = spacy.blank('en')  # create blank Language class\n",
    "    # create the built-in pipeline components and add them to the pipeline\n",
    "    # nlp.create_pipe works for built-ins that are registered with spaCy\n",
    "    if 'ner' not in nlp.pipe_names:\n",
    "        ner = nlp.create_pipe('ner')\n",
    "        nlp.add_pipe(ner, last=True)\n",
    "       \n",
    "\n",
    "    # add labels\n",
    "    for _, annotations in TRAIN_DATA:\n",
    "         for ent in annotations.get('entities'):\n",
    "            ner.add_label(ent[2])\n",
    "\n",
    "    # get names of other pipes to disable them during training\n",
    "    other_pipes = [pipe for pipe in nlp.pipe_names if pipe != 'ner']\n",
    "    with nlp.disable_pipes(*other_pipes):  # only train NER\n",
    "        optimizer = nlp.begin_training()\n",
    "        for itn in range(iterations):\n",
    "            print(\"Statring iteration \" + str(itn))\n",
    "            random.shuffle(TRAIN_DATA)\n",
    "            losses = {}\n",
    "            for text, annotations in TRAIN_DATA:\n",
    "                nlp.update(\n",
    "                    [text],  # batch of texts\n",
    "                    [annotations],  # batch of annotations\n",
    "                    drop=0.2,  # dropout - make it harder to memorise data\n",
    "                    sgd=optimizer,  # callable to update weights\n",
    "                    losses=losses)\n",
    "            print(losses)\n",
    "    return nlp\n",
    "\n",
    "\n",
    "prdnlp = train_spacy(TRAIN_DATA, 20)\n",
    "\n",
    "# Save our trained Model\n",
    "modelfile = input(\"Enter your Model Name: \")\n",
    "prdnlp.to_disk(modelfile)\n",
    "\n",
    "#Test your text\n",
    "test_text = input(\"Enter your testing text: \")\n",
    "doc = prdnlp(test_text)\n",
    "for ent in doc.ents:\n",
    "    print(ent.text, ent.start_char, ent.end_char, ent.label_)"
   ]
  },
  {
   "cell_type": "code",
   "execution_count": 11,
   "metadata": {},
   "outputs": [],
   "source": [
    "# load the \n",
    "import spacy\n",
    "nlp = spacy.load('marvel')\n",
    "text= 'Ant-Man and the Wasp is the 20th film in the series, and it assumes that youve seen not only the original Captain America  but also is one of my favourite'\n",
    "text2= 'Infinity war was much better than ant-man you difinitely love it'\n",
    "# text= open('introduce_marvels.txt').read() \n",
    "doc = nlp(text)\n",
    "doc2= nlp(text2)"
   ]
  },
  {
   "cell_type": "code",
   "execution_count": 12,
   "metadata": {},
   "outputs": [
    {
     "data": {
      "text/html": [
       "<div class=\"entities\" style=\"line-height: 2.5; direction: ltr\">\n",
       "<mark class=\"entity\" style=\"background: #ddd; padding: 0.45em 0.6em; margin: 0 0.25em; line-height: 1; border-radius: 0.35em; box-decoration-break: clone; -webkit-box-decoration-break: clone\">\n",
       "    Ant-Man\n",
       "    <span style=\"font-size: 0.8em; font-weight: bold; line-height: 1; border-radius: 0.35em; text-transform: uppercase; vertical-align: middle; margin-left: 0.5rem\">moviename</span>\n",
       "</mark>\n",
       " and the Wasp is the 20th film in the series, and it assumes that youve seen not only the original \n",
       "<mark class=\"entity\" style=\"background: #ddd; padding: 0.45em 0.6em; margin: 0 0.25em; line-height: 1; border-radius: 0.35em; box-decoration-break: clone; -webkit-box-decoration-break: clone\">\n",
       "    Captain America\n",
       "    <span style=\"font-size: 0.8em; font-weight: bold; line-height: 1; border-radius: 0.35em; text-transform: uppercase; vertical-align: middle; margin-left: 0.5rem\">moviename</span>\n",
       "</mark>\n",
       "  but also is one of my favourite</div>"
      ],
      "text/plain": [
       "<IPython.core.display.HTML object>"
      ]
     },
     "metadata": {},
     "output_type": "display_data"
    }
   ],
   "source": [
    "# display the trained namede entity from a comparative sentence.\n",
    "from spacy import displacy\n",
    "displacy.render(doc, style='ent', jupyter=True)"
   ]
  },
  {
   "cell_type": "code",
   "execution_count": 7,
   "metadata": {},
   "outputs": [
    {
     "data": {
      "text/html": [
       "<div class=\"entities\" style=\"line-height: 2.5; direction: ltr\">\n",
       "<mark class=\"entity\" style=\"background: #ddd; padding: 0.45em 0.6em; margin: 0 0.25em; line-height: 1; border-radius: 0.35em; box-decoration-break: clone; -webkit-box-decoration-break: clone\">\n",
       "    Infinity war\n",
       "    <span style=\"font-size: 0.8em; font-weight: bold; line-height: 1; border-radius: 0.35em; text-transform: uppercase; vertical-align: middle; margin-left: 0.5rem\">moviename</span>\n",
       "</mark>\n",
       " was much better than \n",
       "<mark class=\"entity\" style=\"background: #ddd; padding: 0.45em 0.6em; margin: 0 0.25em; line-height: 1; border-radius: 0.35em; box-decoration-break: clone; -webkit-box-decoration-break: clone\">\n",
       "    ant-man\n",
       "    <span style=\"font-size: 0.8em; font-weight: bold; line-height: 1; border-radius: 0.35em; text-transform: uppercase; vertical-align: middle; margin-left: 0.5rem\">moviename</span>\n",
       "</mark>\n",
       " you difinitely love it</div>"
      ],
      "text/plain": [
       "<IPython.core.display.HTML object>"
      ]
     },
     "metadata": {},
     "output_type": "display_data"
    }
   ],
   "source": [
    "# display the trained namede entity from a comparative sentence.\n",
    "from spacy import displacy\n",
    "displacy.render(doc2, style='ent', jupyter=True)"
   ]
  },
  {
   "cell_type": "code",
   "execution_count": 86,
   "metadata": {},
   "outputs": [
    {
     "name": "stdout",
     "output_type": "stream",
     "text": [
      "[('Infinity war', 'moviename'), ('better than', 'result'), ('ant-man', 'moviename'), ('script', 'aspect')]\n"
     ]
    }
   ],
   "source": [
    "# try lexicon methods, rule-matcher in spacy\n",
    "from spacy.lang.en import English\n",
    "from spacy.pipeline import EntityRuler\n",
    "\n",
    "nlp = English()\n",
    "ruler = EntityRuler(nlp)\n",
    "patterns = [{\"label\": \"moviename\", \"pattern\": \"spider-man\"},\n",
    "            {\"label\": \"moviename\", \"pattern\": [{\"LOWER\": \"captain\"}, {\"LOWER\": \"american\"}]},\n",
    "            {\"label\": \"moviename\", \"pattern\": [{\"LOWER\": \"infinity\"}, {\"LOWER\": \"war\"}]},\n",
    "            {\"label\": \"moviename\", \"pattern\": \"thor\"},\n",
    "            {\"label\": \"moviename\", \"pattern\": [{\"LOWER\": \"iron\"}, {\"LOWER\": \"man\"}]},\n",
    "            {\"label\": \"moviename\", \"pattern\": [{\"LOWER\": \"captain\"}, {\"LOWER\": \"america\"}]},\n",
    "            {\"label\": \"moviename\", \"pattern\": [{\"LOWER\": \"the\"}, {\"LOWER\": \"first\"},{\"LOWER\": \"avenger\"}]},\n",
    "            {\"label\": \"moviename\", \"pattern\": [{\"LOWER\": \"the\"}, {\"LOWER\": \"incredible\"},{\"LOWER\": \"hulk\"}]},\n",
    "            {\"label\": \"moviename\", \"pattern\": \"ant-man\"},\n",
    "            {\"label\": \"aspect\", \"pattern\": \"script\"},\n",
    "            {\"label\": \"aspect\", \"pattern\": \"plot\"},\n",
    "            {\"label\": \"result\", \"pattern\": \"better than\"},\n",
    "            {\"label\": \"result\", \"pattern\": \"worse than\"},]\n",
    "ruler.add_patterns(patterns)\n",
    "nlp.add_pipe(ruler)\n",
    "\n",
    "doc = nlp(u\"Infinity war was much better than ant-man in terms of the script\")\n",
    "print([(ent.text, ent.label_) for ent in doc.ents])"
   ]
  },
  {
   "cell_type": "code",
   "execution_count": 88,
   "metadata": {},
   "outputs": [
    {
     "name": "stdout",
     "output_type": "stream",
     "text": [
      "[('Infinity war', 'moviename'), ('worse than', 'result'), ('ant-man', 'moviename'), ('plot', 'aspect')]\n"
     ]
    }
   ],
   "source": [
    "doc = nlp(u\"Infinity war was much worse than ant-man in terms of the plot\")\n",
    "print([(ent.text, ent.label_) for ent in doc.ents])"
   ]
  }
 ],
 "metadata": {
  "kernelspec": {
   "display_name": "Python 3",
   "language": "python",
   "name": "python3"
  },
  "language_info": {
   "codemirror_mode": {
    "name": "ipython",
    "version": 3
   },
   "file_extension": ".py",
   "mimetype": "text/x-python",
   "name": "python",
   "nbconvert_exporter": "python",
   "pygments_lexer": "ipython3",
   "version": "3.6.8"
  }
 },
 "nbformat": 4,
 "nbformat_minor": 2
}
