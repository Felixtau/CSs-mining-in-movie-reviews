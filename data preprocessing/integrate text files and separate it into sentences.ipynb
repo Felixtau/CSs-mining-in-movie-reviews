{
 "cells": [
  {
   "cell_type": "code",
   "execution_count": 1,
   "metadata": {},
   "outputs": [],
   "source": [
    "# import packages\n",
    "import pandas as pd\n",
    "import os\n",
    "import urllib.request\n",
    "import tarfile\n",
    "import nltk\n",
    "import nltk.data  \n",
    "import re"
   ]
  },
  {
   "cell_type": "code",
   "execution_count": 2,
   "metadata": {},
   "outputs": [],
   "source": [
    "# difine functions\n",
    "# remove tags\n",
    "def rm_tags(text):\n",
    "    re_tag = re.compile(r'<[^>]+>')\n",
    "    return re_tag.sub('',text)\n",
    "# combine alltext into train and test dataset\n",
    "def read_files(filetype):\n",
    "    path = \"G:\\\\Course Learning in Leeds\\\\Dissertation\\\\corpus\\\\aclImdb\\\\\"\n",
    "    file_list=[]\n",
    "    positive_path=path + filetype+\"\\\\pos\\\\\"\n",
    "    for f in os.listdir(positive_path):\n",
    "        file_list+=[positive_path+f]   \n",
    "    negative_path=path + filetype+\"\\\\neg\\\\\"\n",
    "    for f in os.listdir(negative_path):\n",
    "        file_list+=[negative_path+f]      \n",
    "    print('read',filetype, 'files:',len(file_list))      \n",
    "    all_labels = ([1] * 12500 + [0] * 12500)    \n",
    "    all_texts  = []\n",
    "    for fi in file_list:\n",
    "        with open(fi,encoding='utf8') as file_input:\n",
    "            filelines = file_input.readlines()       \n",
    "            all_texts += [rm_tags(filelines[0])]         \n",
    "    return all_labels,all_texts\n",
    "# remove punctuations\n",
    "\n",
    "REPLACE_NO_SPACE = re.compile(\"[:\\',\\\"()\\[\\]]\")\n",
    "REPLACE_WITH_SPACE = re.compile(\"(<br\\s*/><br\\s*/>)|(\\-)|(\\/)\")\n",
    "\n",
    "def preprocess_reviews(reviews):\n",
    "    reviews = [REPLACE_NO_SPACE.sub(\"\", line.lower()) for line in reviews]\n",
    "    reviews = [REPLACE_WITH_SPACE.sub(\" \", line) for line in reviews]\n",
    "    \n",
    "    return reviews\n",
    "# splitsentence from paragraph\n",
    "def splitSentence(paragraph):  \n",
    "    tokenizer = nltk.data.load('tokenizers/punkt/english.pickle')  \n",
    "    sentences = tokenizer.tokenize(paragraph)  \n",
    "    return sentences  \n",
    "  "
   ]
  },
  {
   "cell_type": "code",
   "execution_count": 3,
   "metadata": {},
   "outputs": [
    {
     "name": "stdout",
     "output_type": "stream",
     "text": [
      "read train files: 25000\n",
      "read test files: 25000\n"
     ]
    }
   ],
   "source": [
    "# read data in\n",
    "y_train, x_train = read_files('train')\n",
    "y_test, x_test = read_files('test')"
   ]
  },
  {
   "cell_type": "code",
   "execution_count": 5,
   "metadata": {},
   "outputs": [],
   "source": [
    "# clean data \n",
    "x_train_clean = preprocess_reviews(x_train)"
   ]
  },
  {
   "cell_type": "code",
   "execution_count": 52,
   "metadata": {},
   "outputs": [
    {
     "data": {
      "text/plain": [
       "['homelessness or houselessness as george carlin stated has been an issue for years but never a plan to help those on the street that were once considered human who did everything from going to school work or vote for the matter. most people think of the homeless as just a lost cause while worrying about things such as racism the war on iraq pressuring kids to succeed technology the elections inflation or worrying if theyll be next to end up on the streets.but what if you were given a bet to live on the streets for a month without the luxuries you once had from a home the entertainment sets a bathroom pictures on the wall a computer and everything you once treasure to see what its like to be homeless? that is goddard bolts lesson.mel brooks who directs who stars as bolt plays a rich man who has everything in the world until deciding to make a bet with a sissy rival jeffery tambor to see if he can live in the streets for thirty days without the luxuries; if bolt succeeds he can do what he wants with a future project of making more buildings. the bets on where bolt is thrown on the street with a bracelet on his leg to monitor his every move where he cant step off the sidewalk. hes given the nickname pepto by a vagrant after its written on his forehead where bolt meets other characters including a woman by the name of molly lesley ann warren an ex dancer who got divorce before losing her home and her pals sailor howard morris and fumes teddy wilson who are already used to the streets. theyre survivors. bolt isnt. hes not used to reaching mutual agreements like he once did when being rich where its fight or flight kill or be killed.while the love connection between molly and bolt wasnt necessary to plot i found life stinks to be one of mel brooks observant films where prior to being a comedy it shows a tender side compared to his slapstick work such as blazing saddles young frankenstein or spaceballs for the matter to show what its like having something valuable before losing it the next day or on the other hand making a stupid bet like all rich people do when they dont know what to do with their money. maybe they should give it to the homeless instead of using it like monopoly money.or maybe this film will inspire you to help others.',\n",
       " 'brilliant over acting by lesley ann warren. best dramatic hobo lady i have ever seen and love scenes in clothes warehouse are second to none. the corn on face is a classic as good as anything in blazing saddles. the take on lawyers is also superb. after being accused of being a turncoat selling out his boss and being dishonest the lawyer of pepto bolt shrugs indifferently im a lawyer he says. three funny words. jeffrey tambor a favorite from the later larry sanders show is fantastic here too as a mad millionaire who wants to crush the ghetto. his character is more malevolent than usual. the hospital scene and the scene where the homeless invade a demolition site are all time classics. look for the legs scene and the two big diggers fighting one bleeds. this movie gets better each time i see it which is quite often.',\n",
       " 'this is easily the most underrated film inn the brooks cannon. sure its flawed. it does not give a realistic view of homelessness unlike say how citizen kane gave a realistic view of lounge singers or titanic gave a realistic view of italians you idiots. many of the jokes fall flat. but still this film is very lovable in a way many comedies are not and to pull that off in a story about some of the most traditionally reviled members of society is truly impressive. its not the fisher king but its not crap either. my only complaint is that brooks should have cast someone else in the lead i love mel as a director and writer not so much as a lead.',\n",
       " 'this is not the typical mel brooks film. it was much less slapstick than most of his movies and actually had a plot that was followable. leslie ann warren made the movie she is such a fantastic under rated actress. there were some moments that could have been fleshed out a bit more and some scenes that could probably have been cut to make the room to do so but all in all this is worth the price to rent and see it. the acting was good overall brooks himself did a good job without his characteristic speaking to directly to the audience. again warren was the best actor in the movie but fume and sailor both played their parts well.']"
      ]
     },
     "execution_count": 52,
     "metadata": {},
     "output_type": "execute_result"
    }
   ],
   "source": [
    "x_train_clean[1:5]"
   ]
  },
  {
   "cell_type": "code",
   "execution_count": 19,
   "metadata": {},
   "outputs": [],
   "source": [
    "# excute split sentence ??? How to design a for loop to split all the paragraph into sentences\n",
    "if __name__ == '__main__':  \n",
    "        sent = splitSentence(x_train_clean[1])"
   ]
  },
  {
   "cell_type": "code",
   "execution_count": 20,
   "metadata": {},
   "outputs": [
    {
     "data": {
      "text/plain": [
       "['homelessness or houselessness as george carlin stated has been an issue for years but never a plan to help those on the street that were once considered human who did everything from going to school work or vote for the matter.',\n",
       " 'most people think of the homeless as just a lost cause while worrying about things such as racism the war on iraq pressuring kids to succeed technology the elections inflation or worrying if theyll be next to end up on the streets.but what if you were given a bet to live on the streets for a month without the luxuries you once had from a home the entertainment sets a bathroom pictures on the wall a computer and everything you once treasure to see what its like to be homeless?',\n",
       " 'that is goddard bolts lesson.mel brooks who directs who stars as bolt plays a rich man who has everything in the world until deciding to make a bet with a sissy rival jeffery tambor to see if he can live in the streets for thirty days without the luxuries; if bolt succeeds he can do what he wants with a future project of making more buildings.',\n",
       " 'the bets on where bolt is thrown on the street with a bracelet on his leg to monitor his every move where he cant step off the sidewalk.',\n",
       " 'hes given the nickname pepto by a vagrant after its written on his forehead where bolt meets other characters including a woman by the name of molly lesley ann warren an ex dancer who got divorce before losing her home and her pals sailor howard morris and fumes teddy wilson who are already used to the streets.',\n",
       " 'theyre survivors.',\n",
       " 'bolt isnt.',\n",
       " 'hes not used to reaching mutual agreements like he once did when being rich where its fight or flight kill or be killed.while the love connection between molly and bolt wasnt necessary to plot i found life stinks to be one of mel brooks observant films where prior to being a comedy it shows a tender side compared to his slapstick work such as blazing saddles young frankenstein or spaceballs for the matter to show what its like having something valuable before losing it the next day or on the other hand making a stupid bet like all rich people do when they dont know what to do with their money.',\n",
       " 'maybe they should give it to the homeless instead of using it like monopoly money.or maybe this film will inspire you to help others.']"
      ]
     },
     "execution_count": 20,
     "metadata": {},
     "output_type": "execute_result"
    }
   ],
   "source": [
    "# this is just the first comment\n",
    "sent"
   ]
  },
  {
   "cell_type": "code",
   "execution_count": 54,
   "metadata": {},
   "outputs": [],
   "source": [
    "# construct a dataframe to write all the review sentence into it\n",
    "df = pd.DataFrame(data= x_train_clean,columns= ['reviews']) \n",
    "df.reset_index()\n",
    "df.to_csv(\"reviews.csv\")"
   ]
  },
  {
   "cell_type": "code",
   "execution_count": 6,
   "metadata": {},
   "outputs": [],
   "source": [
    "# splite paragraghs into sentence\n",
    "all_sentence = []\n",
    "for line in x_train_clean:\n",
    "    if __name__ == '__main__':  \n",
    "        sent = splitSentence(line)\n",
    "        all_sentence+=sent"
   ]
  },
  {
   "cell_type": "code",
   "execution_count": 7,
   "metadata": {},
   "outputs": [
    {
     "data": {
      "text/plain": [
       "['it ran at the same time as some other programs about school life such as teachers.',\n",
       " 'my 35 years in the teaching profession lead me to believe that bromwell highs satire is much closer to reality than is teachers.',\n",
       " 'the scramble to survive financially the insightful students who can see right through their pathetic teachers pomp the pettiness of the whole situation all remind me of the schools i knew and their students.',\n",
       " 'when i saw the episode in which a student repeatedly tried to burn down the school i immediately recalled ......... at .......... high.',\n",
       " 'a classic line inspector im here to sack one of your teachers.',\n",
       " 'student welcome to bromwell high.',\n",
       " 'i expect that many adults of my age think that bromwell high is far fetched.',\n",
       " 'what a pity that it isnt!',\n",
       " 'homelessness or houselessness as george carlin stated has been an issue for years but never a plan to help those on the street that were once considered human who did everything from going to school work or vote for the matter.']"
      ]
     },
     "execution_count": 7,
     "metadata": {},
     "output_type": "execute_result"
    }
   ],
   "source": [
    "all_sentence[1:10]"
   ]
  },
  {
   "cell_type": "code",
   "execution_count": 12,
   "metadata": {},
   "outputs": [],
   "source": [
    "df = pd.DataFrame(data= all_sentence,columns= ['text']) \n",
    "df.reset_index()\n",
    "df.index.name = 'id'\n",
    "df.to_csv(\"reviews_sentences.csv\")"
   ]
  },
  {
   "cell_type": "code",
   "execution_count": null,
   "metadata": {},
   "outputs": [],
   "source": []
  },
  {
   "cell_type": "code",
   "execution_count": 54,
   "metadata": {},
   "outputs": [
    {
     "data": {
      "text/plain": [
       "[('that', 'DT'),\n",
       " ('is', 'VBZ'),\n",
       " ('goddard', 'JJ'),\n",
       " ('bolts', 'NNS'),\n",
       " ('lesson.mel', 'JJ'),\n",
       " ('brooks', 'NNS'),\n",
       " ('who', 'WP'),\n",
       " ('directs', 'VBZ'),\n",
       " ('who', 'WP'),\n",
       " ('stars', 'VBZ'),\n",
       " ('as', 'IN'),\n",
       " ('bolt', 'NN'),\n",
       " ('plays', 'VBZ'),\n",
       " ('a', 'DT'),\n",
       " ('rich', 'JJ'),\n",
       " ('man', 'NN'),\n",
       " ('who', 'WP'),\n",
       " ('has', 'VBZ'),\n",
       " ('everything', 'NN'),\n",
       " ('in', 'IN'),\n",
       " ('the', 'DT'),\n",
       " ('world', 'NN'),\n",
       " ('until', 'IN'),\n",
       " ('deciding', 'VBG'),\n",
       " ('to', 'TO'),\n",
       " ('make', 'VB'),\n",
       " ('a', 'DT'),\n",
       " ('bet', 'NN'),\n",
       " ('with', 'IN'),\n",
       " ('a', 'DT'),\n",
       " ('sissy', 'JJ'),\n",
       " ('rival', 'JJ'),\n",
       " ('jeffery', 'NN'),\n",
       " ('tambor', 'NN'),\n",
       " ('to', 'TO'),\n",
       " ('see', 'VB'),\n",
       " ('if', 'IN'),\n",
       " ('he', 'PRP'),\n",
       " ('can', 'MD'),\n",
       " ('live', 'VB'),\n",
       " ('in', 'IN'),\n",
       " ('the', 'DT'),\n",
       " ('streets', 'NNS'),\n",
       " ('for', 'IN'),\n",
       " ('thirty', 'JJ'),\n",
       " ('days', 'NNS'),\n",
       " ('without', 'IN'),\n",
       " ('the', 'DT'),\n",
       " ('luxuries', 'NNS'),\n",
       " (';', ':'),\n",
       " ('if', 'IN'),\n",
       " ('bolt', 'NN'),\n",
       " ('succeeds', 'VBZ'),\n",
       " ('he', 'PRP'),\n",
       " ('can', 'MD'),\n",
       " ('do', 'VB'),\n",
       " ('what', 'WP'),\n",
       " ('he', 'PRP'),\n",
       " ('wants', 'VBZ'),\n",
       " ('with', 'IN'),\n",
       " ('a', 'DT'),\n",
       " ('future', 'NN'),\n",
       " ('project', 'NN'),\n",
       " ('of', 'IN'),\n",
       " ('making', 'VBG'),\n",
       " ('more', 'JJR'),\n",
       " ('buildings', 'NNS'),\n",
       " ('.', '.')]"
      ]
     },
     "execution_count": 54,
     "metadata": {},
     "output_type": "execute_result"
    }
   ],
   "source": [
    "# pos tagger for the first sentence in the first comment\n",
    "grammar = ('''\n",
    "    NP: {<DT>?<JJ>*<NN>} # NP\n",
    "    ''')\n",
    "  \n",
    "chunkParserchunkPar  = nltk.RegexpParser(grammar)\n",
    "tagged = nltk.pos_tag(nltk.word_tokenize(sent[2]))\n",
    "tagged"
   ]
  },
  {
   "cell_type": "code",
   "execution_count": null,
   "metadata": {},
   "outputs": [
    {
     "name": "stdout",
     "output_type": "stream",
     "text": [
      "(S\n",
      "  that/DT\n",
      "  is/VBZ\n",
      "  goddard/JJ\n",
      "  bolts/NNS\n",
      "  lesson.mel/JJ\n",
      "  brooks/NNS\n",
      "  who/WP\n",
      "  directs/VBZ\n",
      "  who/WP\n",
      "  stars/VBZ\n",
      "  as/IN\n",
      "  (NP bolt/NN)\n",
      "  plays/VBZ\n",
      "  (NP a/DT rich/JJ man/NN)\n",
      "  who/WP\n",
      "  has/VBZ\n",
      "  (NP everything/NN)\n",
      "  in/IN\n",
      "  (NP the/DT world/NN)\n",
      "  until/IN\n",
      "  deciding/VBG\n",
      "  to/TO\n",
      "  make/VB\n",
      "  (NP a/DT bet/NN)\n",
      "  with/IN\n",
      "  (NP a/DT sissy/JJ rival/JJ jeffery/NN)\n",
      "  (NP tambor/NN)\n",
      "  to/TO\n",
      "  see/VB\n",
      "  if/IN\n",
      "  he/PRP\n",
      "  can/MD\n",
      "  live/VB\n",
      "  in/IN\n",
      "  the/DT\n",
      "  streets/NNS\n",
      "  for/IN\n",
      "  thirty/JJ\n",
      "  days/NNS\n",
      "  without/IN\n",
      "  the/DT\n",
      "  luxuries/NNS\n",
      "  ;/:\n",
      "  if/IN\n",
      "  (NP bolt/NN)\n",
      "  succeeds/VBZ\n",
      "  he/PRP\n",
      "  can/MD\n",
      "  do/VB\n",
      "  what/WP\n",
      "  he/PRP\n",
      "  wants/VBZ\n",
      "  with/IN\n",
      "  (NP a/DT future/NN)\n",
      "  (NP project/NN)\n",
      "  of/IN\n",
      "  making/VBG\n",
      "  more/JJR\n",
      "  buildings/NNS\n",
      "  ./.)\n",
      "(NP bolt/NN)\n",
      "(NP a/DT rich/JJ man/NN)\n",
      "(NP everything/NN)\n",
      "(NP the/DT world/NN)\n",
      "(NP a/DT bet/NN)\n",
      "(NP a/DT sissy/JJ rival/JJ jeffery/NN)\n",
      "(NP tambor/NN)\n",
      "(NP bolt/NN)\n",
      "(NP a/DT future/NN)\n",
      "(NP project/NN)\n"
     ]
    }
   ],
   "source": [
    "tree = chunkParserchunkPar.parse(tagged)\n",
    "for subtree in tree.subtrees():\n",
    "    print(subtree)\n",
    "tree.draw()"
   ]
  },
  {
   "cell_type": "code",
   "execution_count": 37,
   "metadata": {},
   "outputs": [],
   "source": [
    "# dependent parsing using spacy\n",
    "import spacy\n",
    "nlp = spacy.load(\"en_core_web_sm\")"
   ]
  },
  {
   "cell_type": "code",
   "execution_count": 41,
   "metadata": {},
   "outputs": [],
   "source": [
    "document = nlp(sent[1])\n"
   ]
  },
  {
   "cell_type": "code",
   "execution_count": 47,
   "metadata": {},
   "outputs": [
    {
     "data": {
      "text/plain": [
       "[most people think of the homeless as just a lost cause while worrying about things such as racism the war on iraq pressuring kids to succeed technology the elections inflation or worrying if theyll be next to end up on the streets.but what if you were given a bet to live on the streets for a month without the luxuries you once had from a home the entertainment sets a bathroom pictures on the wall a computer and everything you once treasure to see what its like to be homeless?]"
      ]
     },
     "execution_count": 47,
     "metadata": {},
     "output_type": "execute_result"
    }
   ],
   "source": [
    "list(document.sents)"
   ]
  },
  {
   "cell_type": "code",
   "execution_count": null,
   "metadata": {
    "scrolled": true
   },
   "outputs": [],
   "source": []
  },
  {
   "cell_type": "code",
   "execution_count": null,
   "metadata": {},
   "outputs": [],
   "source": []
  },
  {
   "cell_type": "code",
   "execution_count": null,
   "metadata": {},
   "outputs": [],
   "source": []
  },
  {
   "cell_type": "code",
   "execution_count": null,
   "metadata": {},
   "outputs": [],
   "source": []
  },
  {
   "cell_type": "code",
   "execution_count": 33,
   "metadata": {},
   "outputs": [],
   "source": []
  }
 ],
 "metadata": {
  "kernelspec": {
   "display_name": "Python 3",
   "language": "python",
   "name": "python3"
  },
  "language_info": {
   "codemirror_mode": {
    "name": "ipython",
    "version": 3
   },
   "file_extension": ".py",
   "mimetype": "text/x-python",
   "name": "python",
   "nbconvert_exporter": "python",
   "pygments_lexer": "ipython3",
   "version": "3.6.8"
  }
 },
 "nbformat": 4,
 "nbformat_minor": 2
}
